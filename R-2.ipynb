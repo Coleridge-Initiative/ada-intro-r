{
 "cells": [
  {
   "cell_type": "markdown",
   "metadata": {},
   "source": [
    "# R Workbook 2: What is the Difference by Year?\n",
    "\n",
    "In previous workbook, we looked at how to bring in a dataset in a Data Frame and explore it. In this workbook, we'll explore more of how we can use R to automate and speed up analysis. In addition, we'll look at using basic visualizations."
   ]
  },
  {
   "cell_type": "markdown",
   "metadata": {},
   "source": [
    "## <span style = \"color:green\">Motivating Question</span>\n",
    "\n",
    "So far, we've only looked at data from one year. However, part of what makes the LODES data so useful is the availability of the data over many years. The data are available in multiple CSV files. There are many insights we might find from analyzing data over years, so we want to be able to bring them all together. In this notebook, we'll explore how to do that as we try to answer the following questions:\n",
    "\n",
    "**What is the difference in the number of jobs by age group and by year? What are the different trends across years?**\n",
    "\n",
    "To answer these, we'll introduce you to creating functions to make reading datasets easier. Then, we'll use them within loops to automate reading in datasets. Finally, we'll show some basic visualizations with the data that we get to bring it all together."
   ]
  },
  {
   "cell_type": "markdown",
   "metadata": {},
   "source": [
    "## Starting Out\n",
    "As before, we'll start by loading libraries. We have a few more commands we'll be running in the beginning since we're also going to be doing some visualizations."
   ]
  },
  {
   "cell_type": "code",
   "execution_count": 1,
   "metadata": {},
   "outputs": [
    {
     "name": "stderr",
     "output_type": "stream",
     "text": [
      "── \u001b[1mAttaching packages\u001b[22m ─────────────────────────────────────── tidyverse 1.3.0 ──\n",
      "\n",
      "\u001b[32m✔\u001b[39m \u001b[34mggplot2\u001b[39m 3.2.1     \u001b[32m✔\u001b[39m \u001b[34mpurrr  \u001b[39m 0.3.3\n",
      "\u001b[32m✔\u001b[39m \u001b[34mtibble \u001b[39m 2.1.3     \u001b[32m✔\u001b[39m \u001b[34mdplyr  \u001b[39m 0.8.5\n",
      "\u001b[32m✔\u001b[39m \u001b[34mtidyr  \u001b[39m 1.0.2     \u001b[32m✔\u001b[39m \u001b[34mstringr\u001b[39m 1.4.0\n",
      "\u001b[32m✔\u001b[39m \u001b[34mreadr  \u001b[39m 1.3.1     \u001b[32m✔\u001b[39m \u001b[34mforcats\u001b[39m 0.5.0\n",
      "\n",
      "── \u001b[1mConflicts\u001b[22m ────────────────────────────────────────── tidyverse_conflicts() ──\n",
      "\u001b[31m✖\u001b[39m \u001b[34mdplyr\u001b[39m::\u001b[32mfilter()\u001b[39m masks \u001b[34mstats\u001b[39m::filter()\n",
      "\u001b[31m✖\u001b[39m \u001b[34mdplyr\u001b[39m::\u001b[32mlag()\u001b[39m    masks \u001b[34mstats\u001b[39m::lag()\n",
      "\n"
     ]
    }
   ],
   "source": [
    "library(tidyverse)\n",
    "\n",
    "# Visualization settings to make them look nicer in Jupyter\n",
    "theme_set(theme_gray(base_size = 20))\n",
    "options(repr.plot.width = 12, repr.plot.height = 9)"
   ]
  },
  {
   "cell_type": "markdown",
   "metadata": {},
   "source": [
    "## <span style=\"color:green\">Creating Functions (VIDEO)</span>\n",
    "\n",
    "First, we start off by creating a function. You're familiar with functions in general already, since you've used them to do various things like determining the type of an object (by using `class()`) or finding the mean of a list of numbers (using `mean()`). Here, we'll walk through creating your own function. This helps simplify your code make it much more readable if you're going to be doing the same thing many times, as you won't have to copy and paste your code each time you want to do a certain task.\n",
    "\n",
    "Let's start with a very basic function. Suppose we want a function that takes an argument and returns the squared value. "
   ]
  },
  {
   "cell_type": "code",
   "execution_count": 2,
   "metadata": {},
   "outputs": [],
   "source": [
    "squarer <- function(x){\n",
    "    y = x^2\n",
    "    return(y)\n",
    "}"
   ]
  },
  {
   "cell_type": "code",
   "execution_count": 3,
   "metadata": {},
   "outputs": [
    {
     "data": {
      "text/html": [
       "16"
      ],
      "text/latex": [
       "16"
      ],
      "text/markdown": [
       "16"
      ],
      "text/plain": [
       "[1] 16"
      ]
     },
     "metadata": {},
     "output_type": "display_data"
    }
   ],
   "source": [
    "squarer(4)"
   ]
  },
  {
   "cell_type": "markdown",
   "metadata": {},
   "source": [
    "Here, we're creating a function called `squarer` which takes an input, `x`, and outputs the squared value. Let's break it down line by line.\n",
    "\n",
    "    squarer <- function(x){\n",
    "        return()\n",
    "    }\n",
    "\n",
    "The `function` indicates that we're defining a function. This is being assigned to `squarer`, so that is what the name of our function will be. Then, in parentheses, we put in any arguments we want the function to take. If we don't want it to take any arguments, we can just leave it blank. Lastly, we end the line with a colon. \n",
    "\n",
    "This takes us to the next lines. \n",
    "\n",
    "    y = x^2\n",
    "    return(y) \n",
    "    \n",
    "Here, we have two lines, which assigns the value `x^2` to `y`, then uses the `return` function to output it. \n",
    "\n",
    "Lastly, we have unindented lines, which aren't part of the function.\n",
    "    \n",
    "    squarer(4)\n",
    "\n",
    "This just uses the function with the argument `4` to see if it works and gives us a value of 16. "
   ]
  },
  {
   "cell_type": "markdown",
   "metadata": {},
   "source": [
    "### Writing a Function to get CA Data\n",
    "\n"
   ]
  },
  {
   "cell_type": "code",
   "execution_count": 4,
   "metadata": {},
   "outputs": [],
   "source": [
    "get_ca_wac <- function(year){\n",
    "    base_url <- 'https://lehd.ces.census.gov/data/lodes/LODES7/'\n",
    "    file_specs <- str_replace_all('ca/wac/ca_wac_S000_JT00_YEAR.csv.gz', 'YEAR', as.character(year))\n",
    "    file_name <- paste(base_url, file_specs, sep = '')\n",
    "    \n",
    "    return(read_csv(file_name, col_types = cols()))\n",
    "}"
   ]
  },
  {
   "cell_type": "code",
   "execution_count": 5,
   "metadata": {},
   "outputs": [],
   "source": [
    "ca_wac_2015 <- get_ca_wac(2015)"
   ]
  },
  {
   "cell_type": "markdown",
   "metadata": {},
   "source": [
    "Let's break down the pieces of the function. First, we define the function using `function`, with the arguments inside parentheses. Then, inside the curly braces, we put the actions that we want the function to take. The first line inside the function is \n",
    "\n",
    "    base_url <- 'https://lehd.ces.census.gov/data/lodes/LODES7/'\n",
    "\n",
    "This creates a string called `base_url` which contains the first part of the URL that we will get our data from. This will be the same no matter which year we want to get our data for. \n",
    "\n",
    "Next, we use \n",
    "\n",
    "    file_specs <- str_replace_all('ca/wac/ca_wac_S000_JT00_YEAR.csv.gz', 'YEAR', as.character(year))\n",
    "\n",
    "This does a few things. First, the `str_replace_all` function replaces all instances of `YEAR` with the year we passed as the argument in the function. Note that we use the `as.character` function to make sure that the year we include is a character, because `str_replace_all` needs to replace with a character.\n",
    "\n",
    "This provides us with two parts to a URL: the `base_url`, as well as the subsequent `file_specs`. We just need to put these together to get the full url, which we do in the next line\n",
    "\n",
    "    file_name <- paste(base_url, file_specs, sep = '')\n",
    "    \n",
    "The `paste` function is used to combine two character objects, with the `sep = ''` argument indicating that we don't want anything between the two. \n",
    "\n",
    "Finally, the last line provides the output.\n",
    "\n",
    "    return(read_csv(file_name, col_types = cols()))\n",
    "    \n",
    "Note that we use the `read_csv` function and return the output of that function directly, and that we actually included an additional argument here:\n",
    "\n",
    "    col_types = cols()\n",
    "    \n",
    "This just specifies that we want to use the default column types instead of specifying the column types explicitly. This is the default behavior already, but doing this avoids displaying the message that pops up about column specifications."
   ]
  },
  {
   "cell_type": "markdown",
   "metadata": {},
   "source": [
    "### Function for WAC Data from Any State\n",
    "\n",
    "What if we wanted to get WAC data from any state instead of just California? We can adjust the function to allow for this."
   ]
  },
  {
   "cell_type": "code",
   "execution_count": 6,
   "metadata": {},
   "outputs": [],
   "source": [
    "get_wac <- function(state, year){\n",
    "    base_url <- 'https://lehd.ces.census.gov/data/lodes/LODES7/'\n",
    "    file_specs <- str_replace_all('STATE/wac/STATE_wac_S000_JT00_YEAR.csv.gz', 'STATE', state) %>% str_replace_all('YEAR', as.character(year))\n",
    "    file_name <- paste(base_url, file_specs, sep = '')\n",
    "    \n",
    "    return(read_csv(file_name, col_types = cols()))\n",
    "}"
   ]
  },
  {
   "cell_type": "code",
   "execution_count": 7,
   "metadata": {},
   "outputs": [],
   "source": [
    "df <- get_wac('ca', '2015')"
   ]
  },
  {
   "cell_type": "markdown",
   "metadata": {},
   "source": [
    "Note that the only thing that changed was the second line inside the function.\n",
    "\n",
    "    file_specs <- str_replace_all('STATE/wac/STATE_wac_S000_JT00_YEAR.csv.gz', 'STATE', state) %>% str_replace_all('YEAR', as.character(year))\n",
    "\n",
    "This new function doesn't do that much more than we did before. Just like we used the `str_replace_all` function before to find all instances of the `STATE`, we can again use it to find all instances of `YEAR` and replace them with the appropriate year. We have one additional piece, which is the `as.character` around `year`. This just ensures that we convert the type of `year` into a string, so that we can use it inside `str_replace_all`. "
   ]
  },
  {
   "cell_type": "markdown",
   "metadata": {},
   "source": [
    "## <font color = 'red'>Checkpoint 1: Using Functions</font>\n",
    "\n",
    "Try using the functions above to bring in the data for your state. Do you need to make any changes to the functions? Why or why not?\n",
    "\n",
    "Suppose you wanted to adjust the functions so that you can specify whether you want to bring in the Residence Area Characteristics (rac), or the Workplace Area Characteristics (wac), instead of bringing in the wac dataset by default. How would you adjust the code? Try doing it yourself.\n",
    "\n",
    "What about if you wanted to change the function to also work for the Origin-Destination (od) data? How would the function change then? Make sure you look carefully at the file name. \n",
    "\n",
    "**Hint:** You might consider using if-else statements. You can create `if-else` statements using something like:"
   ]
  },
  {
   "cell_type": "code",
   "execution_count": 1,
   "metadata": {},
   "outputs": [
    {
     "name": "stdout",
     "output_type": "stream",
     "text": [
      "[1] \"The number is not less than 1\"\n"
     ]
    }
   ],
   "source": [
    "test <- 1\n",
    "if(test < 1){\n",
    "    print(\"The number is less than 1\")\n",
    "}else{\n",
    "    print(\"The number is not less than 1\")    \n",
    "}"
   ]
  },
  {
   "cell_type": "code",
   "execution_count": null,
   "metadata": {},
   "outputs": [],
   "source": [
    "\n",
    "\n",
    "\n",
    "\n",
    "\n",
    "\n",
    "\n"
   ]
  },
  {
   "cell_type": "markdown",
   "metadata": {},
   "source": [
    "## <span style = \"color:green\">Using Loops (VIDEO)</span>\n",
    "\n",
    "Sometimes, we want to run the same code many times over. In these case, we can use loops so that we don't have to copy and paste the code over and over. To demonstrate how loops work, we'll first look at a basic `for` loop."
   ]
  },
  {
   "cell_type": "code",
   "execution_count": 8,
   "metadata": {},
   "outputs": [
    {
     "name": "stdout",
     "output_type": "stream",
     "text": [
      "[1] 1\n",
      "[1] 2\n",
      "[1] 3\n",
      "[1] 4\n",
      "[1] 5\n",
      "[1] 6\n",
      "[1] 7\n",
      "[1] 8\n",
      "[1] 9\n",
      "[1] 10\n"
     ]
    }
   ],
   "source": [
    "for(i in 1:10){\n",
    "    print(i)\n",
    "}"
   ]
  },
  {
   "cell_type": "markdown",
   "metadata": {},
   "source": [
    "Here, we are looping through the numbers 1 to 10 and printing them out. Let's break down how each part works.\n",
    "\n",
    "First, consider the first line.\n",
    "\n",
    "    for(i in 1:10){\n",
    "\n",
    "This indicates that we will be looping through the values of 1 to 10, incrementing `i` in each iteration. That is, the code will use `i=1` for one iteration. Then, it will go back and do everything again, except using `i=2`. This keeps going until it hits `i=10`, after which it stops. \n",
    "\n",
    "Notice that the second line is indented. This is a convention that we use to delineate when the loop starts and ends, but is not necessary. All that matters is that the contents of the loop are inside the curly braces. \n",
    "\n",
    "The next line, and everything that comes between the curly braces for loops that are longer, contains everything that we want to do multiple times. Here, we see the following as the only code inside those curly braces.\n",
    "\n",
    "    print(i)\n",
    "\n",
    "This means that it will print the value of `i` every iteration. So, it takes `i=1`, then runs `print(i)`. Then, it sets `i=2` and runs `print(i)`. This is how we get the output that we observed.\n"
   ]
  },
  {
   "cell_type": "markdown",
   "metadata": {},
   "source": [
    "## Using a For Loop to Read In CSV Files\n",
    "\n",
    "Now that we've gone over the basics of how a for loop works, let's apply it to reading in multiple CSV files. We've already created a function that takes a year and reads a CSV file. We want to do this for multiple years automatically, so that we don't need to keep on changing the year and running the code again (if, for example, we want to do this for many years). So, in other words, we want to create a loop that runs the same code multiple times, with only the year changed.\n",
    "\n",
    "Part of our task is a bit easier, since we've already created a function that does what we want. Now, all we need to do is loop through the years we want, calling that function with a different argument for the year.\n",
    "\n",
    "### Using R lists\n",
    "\n",
    "There's one small complication though: how will we automate storage of these Data Frame objects? There's multiple possibilities, but the way we'll do it is using a **list** in R. A **list** is just another way of storing data, but it's more flexible than the data frames that we've been working with."
   ]
  },
  {
   "cell_type": "code",
   "execution_count": 9,
   "metadata": {},
   "outputs": [],
   "source": [
    "example_list <- list(1:10, 'example')"
   ]
  },
  {
   "cell_type": "code",
   "execution_count": 10,
   "metadata": {},
   "outputs": [
    {
     "name": "stdout",
     "output_type": "stream",
     "text": [
      "List of 2\n",
      " $ : int [1:10] 1 2 3 4 5 6 7 8 9 10\n",
      " $ : chr \"example\"\n"
     ]
    }
   ],
   "source": [
    "str(example_list)"
   ]
  },
  {
   "cell_type": "markdown",
   "metadata": {},
   "source": [
    "We can access the elements of the list by using double brackets. So, to get the first element of the list, which would be the vector of numbers from 1 to 10, we can use the following."
   ]
  },
  {
   "cell_type": "code",
   "execution_count": 11,
   "metadata": {},
   "outputs": [
    {
     "data": {
      "text/html": [
       "<style>\n",
       ".list-inline {list-style: none; margin:0; padding: 0}\n",
       ".list-inline>li {display: inline-block}\n",
       ".list-inline>li:not(:last-child)::after {content: \"\\00b7\"; padding: 0 .5ex}\n",
       "</style>\n",
       "<ol class=list-inline><li>1</li><li>2</li><li>3</li><li>4</li><li>5</li><li>6</li><li>7</li><li>8</li><li>9</li><li>10</li></ol>\n"
      ],
      "text/latex": [
       "\\begin{enumerate*}\n",
       "\\item 1\n",
       "\\item 2\n",
       "\\item 3\n",
       "\\item 4\n",
       "\\item 5\n",
       "\\item 6\n",
       "\\item 7\n",
       "\\item 8\n",
       "\\item 9\n",
       "\\item 10\n",
       "\\end{enumerate*}\n"
      ],
      "text/markdown": [
       "1. 1\n",
       "2. 2\n",
       "3. 3\n",
       "4. 4\n",
       "5. 5\n",
       "6. 6\n",
       "7. 7\n",
       "8. 8\n",
       "9. 9\n",
       "10. 10\n",
       "\n",
       "\n"
      ],
      "text/plain": [
       " [1]  1  2  3  4  5  6  7  8  9 10"
      ]
     },
     "metadata": {},
     "output_type": "display_data"
    }
   ],
   "source": [
    "example_list[[1]]"
   ]
  },
  {
   "cell_type": "markdown",
   "metadata": {},
   "source": [
    "### <span style=\"color:green\">Using Loops and Functions to Bring in Multiple Datasets  (VIDEO)</span>\n",
    "We'll start by creating an empty dictionary in which we'll store the Data Frames that we read in. Then, we're going to loop through a few years (here, we'll do 2009 to 2015), calling the `get_wac` function we created earlier to store the appropriate dataset in the dictionary. We'll also make sure to provide the proper key when storing the dataset, so that we can easily access it. "
   ]
  },
  {
   "cell_type": "code",
   "execution_count": 12,
   "metadata": {},
   "outputs": [],
   "source": [
    "wac_all_years <- list()\n",
    "\n",
    "for (i in 1:6){\n",
    "    wac_all_years[[i]] <- get_ca_wac(i+2010)    \n",
    "}"
   ]
  },
  {
   "cell_type": "markdown",
   "metadata": {},
   "source": [
    "## <font color = 'red'>Checkpoint 2: Working with Loops</font>\n",
    "\n",
    "\n",
    "Using what we've learned above, try to apply the same methods to bring in multiple years' worth of data for a different state. Remember to name objects differently so that you don't overwrite anything."
   ]
  },
  {
   "cell_type": "code",
   "execution_count": null,
   "metadata": {},
   "outputs": [],
   "source": []
  },
  {
   "cell_type": "markdown",
   "metadata": {},
   "source": [
    "## Visualizations using `qplot`\n",
    "    \n",
    "Visualizations can help us look at summaries of the data. They can also aid in providing good presentation aids.\n",
    "\n",
    "In this section, we'll look at a few basic types of visualizations: histograms, boxplots, lineplots. In practice, there are many more types of visualizations. Furthermore, there are many different packages that can help you create these different visualizations. While we'll focus only on the basics here with the base R functions as well as `qplot` from the `ggplot2` package, keep in mind that there are many tools available."
   ]
  },
  {
   "cell_type": "markdown",
   "metadata": {},
   "source": [
    "### Making a Histogram\n",
    "We'll start with a basic histogram. A histogram is useful for looking at the distribution of a numerical variable (that is, a variable that takes numbers as its values as opposed to categories). They can visually represent the spread and center of the variable, as well as provide insights to the shape of the distribution. For example, we can look at the number of **modes**, or peaks, in the data, which wouldn't be captured in numerical summaries such as mean or variance. We can also get a better idea of the **skew** of the data, determining whether most units are grouped on the left or right side (lower or higher values), or whether it's mostly symmetrical. \n",
    "\n",
    "We'll first look at the simplest way to make a graph, then show how to customize it using the plotting parameters as well as Figure and Axes objects. Let's look at a histogram of the total jobs in the 2015 Workplace Area Characteristics for California."
   ]
  },
  {
   "cell_type": "code",
   "execution_count": 13,
   "metadata": {},
   "outputs": [
    {
     "name": "stderr",
     "output_type": "stream",
     "text": [
      "`stat_bin()` using `bins = 30`. Pick better value with `binwidth`.\n",
      "\n"
     ]
    },
    {
     "data": {
      "image/png": "[encoded data removed]",
      "text/plain": [
       "plot without title"
      ]
     },
     "metadata": {
      "image/png": {
       "height": 540,
       "width": 720
      },
      "text/plain": {
       "height": 540,
       "width": 720
      }
     },
     "output_type": "display_data"
    }
   ],
   "source": [
    "qplot(df$C000)"
   ]
  },
  {
   "cell_type": "markdown",
   "metadata": {},
   "source": [
    "The existence of outliers means that the graph gets stretched out and it's very hard to tell anything from the resulting histogram. We can restrict the x-axis to get a closer look at the data using `xlim`."
   ]
  },
  {
   "cell_type": "code",
   "execution_count": null,
   "metadata": {},
   "outputs": [],
   "source": [
    "qplot(df$C000, xlim = c(0,500))"
   ]
  },
  {
   "cell_type": "markdown",
   "metadata": {},
   "source": [
    "### Making a Scatterplot\n",
    "\n",
    "When looking at two numerical variables to see if there is a correlation, we might want to use a scatterplot to visualize them. We can simply use the base R `plot` function, passing it the x and y variables as the arguments. \n",
    "\n",
    "Let's look at an example looking at the relationship between number of jobs for two different age groups."
   ]
  },
  {
   "cell_type": "code",
   "execution_count": 14,
   "metadata": {},
   "outputs": [],
   "source": [
    "df_2011 <- wac_all_years[[1]]"
   ]
  },
  {
   "cell_type": "code",
   "execution_count": 15,
   "metadata": {},
   "outputs": [
    {
     "data": {
      "image/png": "[encoded data removed]",
      "text/plain": [
       "plot without title"
      ]
     },
     "metadata": {
      "image/png": {
       "height": 540,
       "width": 720
      },
      "text/plain": {
       "height": 540,
       "width": 720
      }
     },
     "output_type": "display_data"
    }
   ],
   "source": [
    "plot(df_2011$CA01, df_2011$CA02)"
   ]
  },
  {
   "cell_type": "markdown",
   "metadata": {},
   "source": [
    "## <span style = \"color:green\">Using a Line Chart to Show Jobs by Year for Each Age Group (VIDEO)</span>\n",
    "\n",
    "In this last section, we'll look at a line chart while incorporating all the other methods we've gone over in this notebook. Here, we want to look at the change in number of jobs by year, separating them into each age group so that we can look at the trends for each age group as well as compare the trends across age groups. \n",
    "\n",
    "In order to do this, we'll need to get that data from multiple Data Frames, since we want to combine data from multiple years. We'll put them all into a data frame that aggregates the information, then plot the line chart.  \n",
    "\n",
    "Recall that we've already brought in data from 2011to 2016 already. We'll use that data for now, but you can go back and change the years to include more. We'll show all of the code, then go over the individual parts."
   ]
  },
  {
   "cell_type": "code",
   "execution_count": 16,
   "metadata": {},
   "outputs": [],
   "source": [
    "CA_over_years <- data.frame(Year = rep(NA,6), \n",
    "                           CA01 = rep(NA,6),\n",
    "                           CA02 = rep(NA,6),\n",
    "                           CA03 = rep(NA,6))\n",
    "\n",
    "for (i in 1:6){\n",
    "    CA_sum <- wac_all_years[[i]] %>% select(CA01, CA02, CA03) %>% summarize(Year = i+2010, CA01 = sum(CA01), CA02 = sum(CA02),CA03 = sum(CA03))\n",
    "    CA_over_years[i,] <- CA_sum   \n",
    "}\n",
    "\n"
   ]
  },
  {
   "cell_type": "markdown",
   "metadata": {},
   "source": [
    "First, we start by initializing an empty Data Frame which we will use to store the data. \n",
    "\n",
    "    CA_over_years <- data.frame(Year = rep(NA,6), \n",
    "                           CA01 = rep(NA,6),\n",
    "                           CA02 = rep(NA,6),\n",
    "                           CA03 = rep(NA,6))\n",
    "\n",
    "The `data.frame` function can be used to create a data frame from scratch, with columns being specified in the arguments. The `rep` function creates a vector consisting of the first argument repeated a number of times equal to the second argument. In this case, `rep(NA,6)` creates a vector of length 6 which contains `NA` for each element of the vector. \n",
    "\n",
    "    for (i in 1:6){\n",
    "        CA_sum <- wac_all_years[[i]] %>% select(CA01, CA02, CA03) %>% summarize(Year = i+2010, CA01 = sum(CA01), CA02 = sum(CA02),CA03 = sum(CA03))\n",
    "        CA_over_years[i,] <- CA_sum   \n",
    "    }\n",
    "    \n",
    "Next, we use a `for` loop, so that we can go through each year and add that year's data to the Data Frame we just created. Let's look at the first line of the `for` loop:\n",
    "\n",
    "    CA_sum <- wac_all_years[[i]] %>% select(CA01, CA02, CA03) %>% summarize(Year = i+2010, CA01 = sum(CA01), CA02 = sum(CA02),CA03 = sum(CA03))\n",
    "   \n",
    "This takes the list of all the years of data and uses the $i^{th}$ Data Frame in that list. Then, it `selects` the age variables, uses `summarize` to get the `Year` as well as the total number of jobs within that age group by summing over all census blocks.\n",
    "\n",
    "This is then stored inside the $i^{th}$ row of the `CA_over_years` Data Frame.\n",
    "\n",
    "Let's take a look at the Data Frame that we've created."
   ]
  },
  {
   "cell_type": "code",
   "execution_count": 21,
   "metadata": {},
   "outputs": [
    {
     "data": {
      "text/html": [
       "<table>\n",
       "<caption>A data.frame: 6 × 4</caption>\n",
       "<thead>\n",
       "\t<tr><th></th><th scope=col>Year</th><th scope=col>CA01</th><th scope=col>CA02</th><th scope=col>CA03</th></tr>\n",
       "\t<tr><th></th><th scope=col>&lt;dbl&gt;</th><th scope=col>&lt;dbl&gt;</th><th scope=col>&lt;dbl&gt;</th><th scope=col>&lt;dbl&gt;</th></tr>\n",
       "</thead>\n",
       "<tbody>\n",
       "\t<tr><th scope=row>1</th><td>2011</td><td>3351381</td><td>8469390</td><td>2843367</td></tr>\n",
       "\t<tr><th scope=row>2</th><td>2012</td><td>3189236</td><td>8493125</td><td>3026931</td></tr>\n",
       "\t<tr><th scope=row>3</th><td>2013</td><td>3268571</td><td>8707699</td><td>3206698</td></tr>\n",
       "\t<tr><th scope=row>4</th><td>2014</td><td>3361131</td><td>8880201</td><td>3373334</td></tr>\n",
       "\t<tr><th scope=row>5</th><td>2015</td><td>3451786</td><td>9045644</td><td>3551317</td></tr>\n",
       "\t<tr><th scope=row>6</th><td>2016</td><td>3712686</td><td>9178956</td><td>3612052</td></tr>\n",
       "</tbody>\n",
       "</table>\n"
      ],
      "text/latex": [
       "A data.frame: 6 × 4\n",
       "\\begin{tabular}{r|llll}\n",
       "  & Year & CA01 & CA02 & CA03\\\\\n",
       "  & <dbl> & <dbl> & <dbl> & <dbl>\\\\\n",
       "\\hline\n",
       "\t1 & 2011 & 3351381 & 8469390 & 2843367\\\\\n",
       "\t2 & 2012 & 3189236 & 8493125 & 3026931\\\\\n",
       "\t3 & 2013 & 3268571 & 8707699 & 3206698\\\\\n",
       "\t4 & 2014 & 3361131 & 8880201 & 3373334\\\\\n",
       "\t5 & 2015 & 3451786 & 9045644 & 3551317\\\\\n",
       "\t6 & 2016 & 3712686 & 9178956 & 3612052\\\\\n",
       "\\end{tabular}\n"
      ],
      "text/markdown": [
       "\n",
       "A data.frame: 6 × 4\n",
       "\n",
       "| <!--/--> | Year &lt;dbl&gt; | CA01 &lt;dbl&gt; | CA02 &lt;dbl&gt; | CA03 &lt;dbl&gt; |\n",
       "|---|---|---|---|---|\n",
       "| 1 | 2011 | 3351381 | 8469390 | 2843367 |\n",
       "| 2 | 2012 | 3189236 | 8493125 | 3026931 |\n",
       "| 3 | 2013 | 3268571 | 8707699 | 3206698 |\n",
       "| 4 | 2014 | 3361131 | 8880201 | 3373334 |\n",
       "| 5 | 2015 | 3451786 | 9045644 | 3551317 |\n",
       "| 6 | 2016 | 3712686 | 9178956 | 3612052 |\n",
       "\n"
      ],
      "text/plain": [
       "  Year CA01    CA02    CA03   \n",
       "1 2011 3351381 8469390 2843367\n",
       "2 2012 3189236 8493125 3026931\n",
       "3 2013 3268571 8707699 3206698\n",
       "4 2014 3361131 8880201 3373334\n",
       "5 2015 3451786 9045644 3551317\n",
       "6 2016 3712686 9178956 3612052"
      ]
     },
     "metadata": {},
     "output_type": "display_data"
    }
   ],
   "source": [
    "head(CA_over_years)"
   ]
  },
  {
   "cell_type": "markdown",
   "metadata": {},
   "source": [
    "We actually need to format the data a little bit differently in order to create the graph that we want. For `qplot`, we want three columns: `Year`, `Age Group`, and `Jobs`, with each row representing a Year-Age Group combination. This makes it so that each row only has one value being plotted, and we can just tell `qplot` how to color the lines according to the other variables. \n",
    "\n",
    "To get the data in this format, we will use the `gather` function. We use `-Year` (note the \"-\") to make sure we keep the `Year` variable unchanged, then specify that we want a column for age group and for the number of jobs. The rest of the columns besides `Year` all need to be converted in to this format, which is why we are able to use `-Year` (that is, telling `gather` to use all columns except `Year`)."
   ]
  },
  {
   "cell_type": "code",
   "execution_count": 17,
   "metadata": {},
   "outputs": [],
   "source": [
    "CA_years_long <- CA_over_years %>% gather(-Year, key = 'Age_Group', value = 'Jobs')"
   ]
  },
  {
   "cell_type": "code",
   "execution_count": 18,
   "metadata": {},
   "outputs": [
    {
     "data": {
      "image/png": "[encoded data removed]",
      "text/plain": [
       "plot without title"
      ]
     },
     "metadata": {
      "image/png": {
       "height": 540,
       "width": 720
      },
      "text/plain": {
       "height": 540,
       "width": 720
      }
     },
     "output_type": "display_data"
    }
   ],
   "source": [
    "qplot(Year, Jobs, data = CA_years_long, color = Age_Group, geom = 'line')"
   ]
  },
  {
   "cell_type": "markdown",
   "metadata": {},
   "source": [
    "## <span style=\"color:red\">Checkpoint 3: Visualize Your Data</span>\n",
    "\n",
    "Try using the methods we've described above, try visualizing data from a different state. What do the visualizations tell you? How are they different from the data from California? How are they the same? Does this make sense?"
   ]
  },
  {
   "cell_type": "code",
   "execution_count": null,
   "metadata": {},
   "outputs": [],
   "source": [
    "\n",
    "\n",
    "\n",
    "\n",
    "\n"
   ]
  }
 ],
 "metadata": {
  "kernelspec": {
   "display_name": "R",
   "language": "R",
   "name": "ir"
  },
  "language_info": {
   "codemirror_mode": "r",
   "file_extension": ".r",
   "mimetype": "text/x-r-source",
   "name": "R",
   "pygments_lexer": "r",
   "version": "3.6.1"
  }
 },
 "nbformat": 4,
 "nbformat_minor": 4
}
